{
  "cells": [
    {
      "cell_type": "markdown",
      "metadata": {
        "id": "view-in-github",
        "colab_type": "text"
      },
      "source": [
        "<a href=\"https://colab.research.google.com/github/yash-clear/neural-machine-translation-with-attention/blob/main/Attention_is_all_you_need_Assignment_1.ipynb\" target=\"_parent\"><img src=\"https://colab.research.google.com/assets/colab-badge.svg\" alt=\"Open In Colab\"/></a>"
      ]
    },
    {
      "cell_type": "markdown",
      "source": [
        "# RESEARCH PAPER CHOSEN: ATTENTION IS ALL YOU NEED\n"
      ],
      "metadata": {
        "id": "kW5hsAnx_-ws"
      }
    },
    {
      "cell_type": "code",
      "execution_count": null,
      "metadata": {
        "id": "T1Nj5kjn_Tv6"
      },
      "outputs": [],
      "source": [
        "import math\n",
        "import os\n",
        "import gc\n",
        "import time\n",
        "import re\n",
        "\n",
        "import tensorflow as tf\n",
        "import pandas as pd\n",
        "import numpy as np\n",
        "\n",
        "from google.colab import drive\n",
        "from tensorflow.keras import layers\n",
        "from tensorflow.keras import backend as K\n",
        "import tensorflow_datasets as tfds\n",
        "\n",
        "from keras.preprocessing.text import Tokenizer\n",
        "from keras.preprocessing.sequence import pad_sequences\n",
        "\n",
        "import matplotlib.pyplot as plt\n",
        "%matplotlib inline "
      ]
    },
    {
      "cell_type": "markdown",
      "source": [
        "Mounting the drive"
      ],
      "metadata": {
        "id": "VJEjaQwTdSad"
      }
    },
    {
      "cell_type": "code",
      "source": [
        "drive.mount(\"/content/drive\")"
      ],
      "metadata": {
        "id": "ZLLg9tAMhrP-",
        "colab": {
          "base_uri": "https://localhost:8080/"
        },
        "outputId": "03d8d42e-dbba-4365-f0db-0a21439a75d1"
      },
      "execution_count": null,
      "outputs": [
        {
          "output_type": "stream",
          "name": "stdout",
          "text": [
            "Drive already mounted at /content/drive; to attempt to forcibly remount, call drive.mount(\"/content/drive\", force_remount=True).\n"
          ]
        }
      ]
    },
    {
      "cell_type": "code",
      "source": [
        "# Global Path Variables \n",
        "root_folder='/content/drive'\n",
        "data_folder_name='MyDrive/dataset/'\n",
        "checkpoint_folder = \"MyDrive/projects/checkpoints/\" # To create checkpoints for the model\n",
        "train_filename='deu.txt'\n",
        "\n",
        "#Directories\n",
        "DATA_PATH = os.path.abspath(os.path.join(root_folder, data_folder_name))\n",
        "train_filenamepath = os.path.abspath(os.path.join(DATA_PATH, train_filename))\n",
        "checkpoint_path = os.path.abspath(os.path.join(root_folder, checkpoint_folder))\n",
        "NB_Path_lang1=DATA_PATH+\"/nonbreaking_prefix.en\"\n",
        "NB_Path_lang2=DATA_PATH+\"/nonbreaking_prefix.de\""
      ],
      "metadata": {
        "id": "6zfg567Jdtaf"
      },
      "execution_count": null,
      "outputs": []
    },
    {
      "cell_type": "code",
      "source": [
        "# Parameters for our model\n",
        "INPUT_COLUMN = 'input'\n",
        "TARGET_COLUMN = 'target'\n",
        "NUM_SAMPLES = 80000 \n",
        "MAX_VOCAB_SIZE = 2**14\n",
        "\n",
        "BATCH_SIZE = 64  # Batch size for training.\n",
        "EPOCHS = 10  # Number of epochs to train for.\n",
        "MAX_LENGTH = 15\n",
        "\n",
        "# Both train and test set are in the root data directory\n",
        "train_path = DATA_PATH\n"
      ],
      "metadata": {
        "id": "8mBnGVzth_LR"
      },
      "execution_count": null,
      "outputs": []
    },
    {
      "cell_type": "code",
      "execution_count": null,
      "metadata": {
        "colab": {
          "base_uri": "https://localhost:8080/"
        },
        "id": "g0bKAsWnI6xH",
        "outputId": "2abc11c6-6d53-4389-e74d-a88332f22c2a"
      },
      "outputs": [
        {
          "output_type": "stream",
          "name": "stdout",
          "text": [
            "/content/drive/MyDrive/dataset\n"
          ]
        }
      ],
      "source": [
        "print(DATA_PATH)"
      ]
    },
    {
      "cell_type": "markdown",
      "source": [
        "### preprocessing non-breaking texts"
      ],
      "metadata": {
        "id": "_jjX-5WCrJU_"
      }
    },
    {
      "cell_type": "code",
      "execution_count": null,
      "metadata": {
        "id": "cqPA46quFDdc"
      },
      "outputs": [],
      "source": [
        "\n",
        "def preprocess_text_nonbreaking(corpus, non_breaking_prefixes):\n",
        "  corpus_cleaned = corpus\n",
        "  \n",
        "  for prefix in non_breaking_prefixes:\n",
        "    corpus_cleaned = corpus_cleaned.replace(prefix, prefix + '$$$')\n",
        "  \n",
        "  corpus_cleaned = re.sub(r\"\\.(?=[0-9]|[a-z]|[A-Z])\", \".$$$\", corpus_cleaned)\n",
        "  # Remove the $$$ mark\n",
        "  corpus_cleaned = re.sub(r\"\\.\\$\\$\\$\", '', corpus_cleaned)\n",
        "  # Remove multiple white spaces\n",
        "  corpus_cleaned = re.sub(r\"  +\", \" \", corpus_cleaned)\n",
        "\n",
        "  return corpus_cleaned"
      ]
    },
    {
      "cell_type": "markdown",
      "source": [
        "### Load the dataset "
      ],
      "metadata": {
        "id": "bfodTmsmrDoo"
      }
    },
    {
      "cell_type": "code",
      "execution_count": null,
      "metadata": {
        "id": "g5OjFMVaFQJO"
      },
      "outputs": [],
      "source": [
        "\n",
        "def load_data( NB_Path_lang1, NB_path_lang2,train_filenamepath):\n",
        "\n",
        "  with open(NB_Path_lang1, mode = \"r\", encoding = \"utf-8\") as f:\n",
        "      non_breaking_prefix_en = f.read()\n",
        "\n",
        "  with open(NB_path_lang2,mode = \"r\", encoding = \"utf-8\") as f:\n",
        "      non_breaking_prefix_de = f.read()\n",
        "\n",
        "  non_breaking_prefix_en = non_breaking_prefix_en.split(\"\\n\")\n",
        "  non_breaking_prefix_en = [' ' + pref + '.' for pref in non_breaking_prefix_en]\n",
        "  non_breaking_prefix_de = non_breaking_prefix_de.split(\"\\n\")\n",
        "  non_breaking_prefix_de = [' ' + pref + '.' for pref in non_breaking_prefix_de]    \n",
        "\n",
        "  df=pd.read_csv(train_filenamepath, sep=\"\\t\", header=None, names=[INPUT_COLUMN,TARGET_COLUMN], usecols=[0,1], \n",
        "                nrows=NUM_SAMPLES)\n",
        "\n",
        "  # Preprocess the input data (English)\n",
        "  input_data=df[INPUT_COLUMN].apply(lambda x : preprocess_text_nonbreaking(x, non_breaking_prefix_en)).tolist()\n",
        "\n",
        "  # Preprocess and include the end of sentence token to the target text (German)\n",
        "  target_data=df[TARGET_COLUMN].apply(lambda x : preprocess_text_nonbreaking(x, non_breaking_prefix_de)).tolist()\n",
        "\n",
        "  return input_data,target_data\n"
      ]
    },
    {
      "cell_type": "code",
      "execution_count": null,
      "metadata": {
        "id": "CaZs-KibKPn2"
      },
      "outputs": [],
      "source": [
        "def subword_tokenize(corpus, vocab_size, max_length):\n",
        "  # Create the vocabulary using Subword tokenization\n",
        "  tokenizer_corpus = tfds.deprecated.text.SubwordTextEncoder.build_from_corpus(\n",
        "    corpus, target_vocab_size=vocab_size)\n",
        "  # Get the final vocab size, adding the eos and sos tokens\n",
        "  num_words = tokenizer_corpus.vocab_size + 2\n",
        "  # Set eos and sos token\n",
        "  sos_token = [num_words-2]\n",
        "  eos_token = [num_words-1]\n",
        "  # Tokenize the corpus\n",
        "  sentences = [sos_token + tokenizer_corpus.encode(sentence) + eos_token\n",
        "          for sentence in corpus]\n",
        "  # Identify the index of the sentences longer than max length\n",
        "  idx_to_remove = [count for count, sent in enumerate(sentences)\n",
        "                 if len(sent) > max_length]\n",
        "  #Pad the sentences\n",
        "  sentences = tf.keras.preprocessing.sequence.pad_sequences(sentences,\n",
        "                                                       value=0,\n",
        "                                                       padding='post',\n",
        "                                                       maxlen=max_length)\n",
        "  \n",
        "  return sentences, tokenizer_corpus, num_words, sos_token, eos_token, idx_to_remove\n"
      ]
    },
    {
      "cell_type": "code",
      "source": [
        "input_data,target_data=load_data(NB_Path_lang1,NB_Path_lang2,train_filenamepath)\n"
      ],
      "metadata": {
        "id": "IG74f2aimYWl"
      },
      "execution_count": null,
      "outputs": []
    },
    {
      "cell_type": "code",
      "source": [
        "print('Number of sentences: ',len(input_data))\n",
        "print(input_data[:5])\n",
        "print(target_data[:5])"
      ],
      "metadata": {
        "id": "LWTFyODPrkmO",
        "colab": {
          "base_uri": "https://localhost:8080/"
        },
        "outputId": "8bad562e-1ab0-4c55-b29c-fd8c3ede403c"
      },
      "execution_count": null,
      "outputs": [
        {
          "output_type": "stream",
          "name": "stdout",
          "text": [
            "Number of sentences:  80000\n",
            "['Go.', 'Hi.', 'Hi.', 'Run!', 'Run.']\n",
            "['Geh.', 'Hallo!', 'Grüß Gott!', 'Lauf!', 'Lauf!']\n"
          ]
        }
      ]
    },
    {
      "cell_type": "markdown",
      "source": [
        "### Tokenize and pad"
      ],
      "metadata": {
        "id": "aC56vqSkrXC0"
      }
    },
    {
      "cell_type": "code",
      "source": [
        "\n",
        "encoder_inputs, tokenizer_inputs, num_words_inputs, sos_token_input, eos_token_input, del_idx_inputs= subword_tokenize(input_data,MAX_VOCAB_SIZE, MAX_LENGTH)\n",
        "decoder_outputs, tokenizer_outputs, num_words_output, sos_token_output, eos_token_output, del_idx_outputs = subword_tokenize(target_data, MAX_VOCAB_SIZE, MAX_LENGTH)\n",
        "\n"
      ],
      "metadata": {
        "id": "aaRpZQFamVQ3"
      },
      "execution_count": null,
      "outputs": []
    },
    {
      "cell_type": "code",
      "source": [
        "print(encoder_inputs[:5], sos_token_input, eos_token_input)\n",
        "print(decoder_outputs[:5], sos_token_output, eos_token_output)"
      ],
      "metadata": {
        "id": "66m5eTPoriP5",
        "colab": {
          "base_uri": "https://localhost:8080/"
        },
        "outputId": "59d7c382-b0f8-4e15-8590-929d0d78006f"
      },
      "execution_count": null,
      "outputs": [
        {
          "output_type": "stream",
          "name": "stdout",
          "text": [
            "[[11286  7301 11076 11287     0     0     0     0     0     0     0     0\n",
            "      0     0     0]\n",
            " [11286  1727 11076 11287     0     0     0     0     0     0     0     0\n",
            "      0     0     0]\n",
            " [11286  1727 11076 11287     0     0     0     0     0     0     0     0\n",
            "      0     0     0]\n",
            " [11286  7238 11063 11287     0     0     0     0     0     0     0     0\n",
            "      0     0     0]\n",
            " [11286  7238 11076 11287     0     0     0     0     0     0     0     0\n",
            "      0     0     0]] [11286] [11287]\n",
            "[[18946  5049 18736 18947     0     0     0     0     0     0     0     0\n",
            "      0     0     0]\n",
            " [18946  1249 18723 18947     0     0     0     0     0     0     0     0\n",
            "      0     0     0]\n",
            " [18946  5032  2130 18723 18947     0     0     0     0     0     0     0\n",
            "      0     0     0]\n",
            " [18946  9941 18723 18947     0     0     0     0     0     0     0     0\n",
            "      0     0     0]\n",
            " [18946  9941 18723 18947     0     0     0     0     0     0     0     0\n",
            "      0     0     0]] [18946] [18947]\n"
          ]
        }
      ]
    },
    {
      "cell_type": "code",
      "execution_count": null,
      "metadata": {
        "colab": {
          "base_uri": "https://localhost:8080/"
        },
        "id": "UUgY-MZuKfyf",
        "outputId": "1de447d8-74fd-434f-df5d-0f16fd835a13"
      },
      "outputs": [
        {
          "output_type": "stream",
          "name": "stdout",
          "text": [
            "Size of Input Vocabulary:  11288\n",
            "Size of Output Vocabulary:  18948\n"
          ]
        }
      ],
      "source": [
        "print('Size of Input Vocabulary: ', num_words_inputs)\n",
        "print('Size of Output Vocabulary: ', num_words_output)"
      ]
    },
    {
      "cell_type": "markdown",
      "source": [
        "## Define a dataset"
      ],
      "metadata": {
        "id": "MjC38Dz9rnDR"
      }
    },
    {
      "cell_type": "code",
      "execution_count": null,
      "metadata": {
        "id": "GCxFv7XFKmPl"
      },
      "outputs": [],
      "source": [
        " \n",
        "dataset = tf.data.Dataset.from_tensor_slices(\n",
        "    (encoder_inputs, decoder_outputs))\n",
        "dataset = dataset.shuffle(len(input_data), reshuffle_each_iteration=True).batch(\n",
        "    BATCH_SIZE, drop_remainder=True)\n",
        "\n",
        "dataset = dataset.prefetch(tf.data.experimental.AUTOTUNE)"
      ]
    },
    {
      "cell_type": "markdown",
      "source": [
        "Positional encoding: in order for the model to make use of the order of the sequence, we must inject some information about the relative or absolute position of the  where pos is the position and i is the dimension, we use sine and cosine functions of different frequencies:\n",
        "\n",
        "PE(pos;2i) = sin(pos=10000^(2i/dmodel)\n",
        "\n",
        "PE(pos;2i+1) = cos(pos=10000^(2i/dmodel)\n"
      ],
      "metadata": {
        "id": "wTKdiVxvs2by"
      }
    },
    {
      "cell_type": "code",
      "execution_count": null,
      "metadata": {
        "id": "Tx9dKKRy_4oR"
      },
      "outputs": [],
      "source": [
        "class PositionalEncoding(layers.Layer):\n",
        "\n",
        "    def __init__(self):\n",
        "        super(PositionalEncoding, self).__init__()\n",
        "    \n",
        "    def get_angles(self, pos, i, d_model):\n",
        "        angles = 1 / np.power(10000., (2*(i//2)) / np.float32(d_model))\n",
        "        return pos * angles \n",
        "\n",
        "    def call(self, inputs):\n",
        "        \n",
        "        seq_length = inputs.shape.as_list()[-2]\n",
        "        d_model = inputs.shape.as_list()[-1]\n",
        "        \n",
        "        angles = self.get_angles(np.arange(seq_length)[:, np.newaxis],\n",
        "                                 np.arange(d_model)[np.newaxis, :],\n",
        "                                 d_model)\n",
        "       \n",
        "        angles[:, 0::2] = np.sin(angles[:, 0::2])\n",
        "        angles[:, 1::2] = np.cos(angles[:, 1::2])\n",
        "        \n",
        "        pos_encoding = angles[np.newaxis, ...]\n",
        "        \n",
        "        return inputs + tf.cast(pos_encoding, tf.float32)"
      ]
    },
    {
      "cell_type": "code",
      "execution_count": null,
      "metadata": {
        "id": "2n7zYCV6_8mu"
      },
      "outputs": [],
      "source": [
        "class EncoderLayer(layers.Layer):\n",
        "    \n",
        "    def __init__(self, FFN_units, n_heads, dropout_rate):\n",
        "        super(EncoderLayer, self).__init__()\n",
        "        # Hidden units of the feed forward component\n",
        "        self.FFN_units = FFN_units\n",
        "        # Set the number of projectios or heads\n",
        "        self.n_heads = n_heads\n",
        "        # Dropout rate\n",
        "        self.dropout_rate = dropout_rate\n",
        "    \n",
        "    def build(self, input_shape):\n",
        "        self.d_model = input_shape[-1]\n",
        "        # Build the multihead layer\n",
        "        self.multi_head_attention = MultiHeadAttention(self.n_heads)\n",
        "        self.dropout_1 = layers.Dropout(rate=self.dropout_rate)\n",
        "        # Layer Normalization\n",
        "        self.norm_1 = layers.LayerNormalization(epsilon=1e-6)\n",
        "        # Fully connected feed forward layer\n",
        "        self.ffn1_relu = layers.Dense(units=self.FFN_units, activation=\"relu\")\n",
        "        self.ffn2 = layers.Dense(units=self.d_model)\n",
        "        self.dropout_2 = layers.Dropout(rate=self.dropout_rate)\n",
        "        # Layer normalization\n",
        "        self.norm_2 = layers.LayerNormalization(epsilon=1e-6)\n",
        "        \n",
        "    def call(self, inputs, mask, training):\n",
        "        attention = self.multi_head_attention(inputs,\n",
        "                                              inputs,\n",
        "                                              inputs,\n",
        "                                              mask)\n",
        "        attention = self.dropout_1(attention, training=training)\n",
        "        \n",
        "        attention = self.norm_1(attention + inputs)\n",
        "        # Call to the FC layer\n",
        "        outputs = self.ffn1_relu(attention)\n",
        "        outputs = self.ffn2(outputs)\n",
        "        outputs = self.dropout_2(outputs, training=training)\n",
        "        # Call to residual connection and the layer normalization\n",
        "        outputs = self.norm_2(outputs + attention)\n",
        "        \n",
        "        return outputs"
      ]
    },
    {
      "cell_type": "code",
      "execution_count": null,
      "metadata": {
        "id": "50rZOZF3_9jy"
      },
      "outputs": [],
      "source": [
        "class Encoder(layers.Layer):\n",
        "    \n",
        "    def __init__(self,\n",
        "                 n_layers,\n",
        "                 FFN_units,\n",
        "                 n_heads,\n",
        "                 dropout_rate,\n",
        "                 vocab_size,\n",
        "                 d_model,\n",
        "                 name=\"encoder\"):\n",
        "        super(Encoder, self).__init__(name=name)\n",
        "        self.n_layers = n_layers\n",
        "        self.d_model = d_model\n",
        "        # The embedding layer\n",
        "        self.embedding = layers.Embedding(vocab_size, d_model)\n",
        "        # Positional encoding layer\n",
        "        self.pos_encoding = PositionalEncoding()\n",
        "        self.dropout = layers.Dropout(rate=dropout_rate)\n",
        "        # Stack of n layers of multi-head attention and FC\n",
        "        self.enc_layers = [EncoderLayer(FFN_units,\n",
        "                                        n_heads,\n",
        "                                        dropout_rate) \n",
        "                           for _ in range(n_layers)]\n",
        "    \n",
        "    def call(self, inputs, mask, training):\n",
        "        # Get the embedding vectors\n",
        "        outputs = self.embedding(inputs)\n",
        "        # Scale the embeddings by sqrt of d_model\n",
        "        outputs *= tf.math.sqrt(tf.cast(self.d_model, tf.float32))\n",
        "        # Positional encodding\n",
        "        outputs = self.pos_encoding(outputs)\n",
        "        outputs = self.dropout(outputs, training)\n",
        "        # Call the stacked layers\n",
        "        for i in range(self.n_layers):\n",
        "            outputs = self.enc_layers[i](outputs, mask, training)\n",
        "\n",
        "        return outputs"
      ]
    },
    {
      "cell_type": "code",
      "execution_count": null,
      "metadata": {
        "id": "7Tgyj8N7AA8A"
      },
      "outputs": [],
      "source": [
        "class DecoderLayer(layers.Layer):\n",
        "    \n",
        "    def __init__(self, FFN_units, n_heads, dropout_rate):\n",
        "        super(DecoderLayer, self).__init__()\n",
        "        self.FFN_units = FFN_units\n",
        "        self.n_heads = n_heads\n",
        "        self.dropout_rate = dropout_rate\n",
        "    \n",
        "    def build(self, input_shape):\n",
        "        self.d_model = input_shape[-1]\n",
        "        self.multi_head_causal_attention = MultiHeadAttention(self.n_heads)\n",
        "        self.dropout_1 = layers.Dropout(rate=self.dropout_rate)\n",
        "        self.norm_1 = layers.LayerNormalization(epsilon=1e-6)\n",
        "         \n",
        "        self.multi_head_enc_dec_attention = MultiHeadAttention(self.n_heads)\n",
        "        self.dropout_2 = layers.Dropout(rate=self.dropout_rate)\n",
        "        self.norm_2 = layers.LayerNormalization(epsilon=1e-6)\n",
        "        \n",
        "        # Feed foward\n",
        "        self.ffn1_relu = layers.Dense(units=self.FFN_units,\n",
        "                                    activation=\"relu\")\n",
        "        self.ffn2 = layers.Dense(units=self.d_model)\n",
        "        self.dropout_3 = layers.Dropout(rate=self.dropout_rate)\n",
        "        self.norm_3 = layers.LayerNormalization(epsilon=1e-6)\n",
        "        \n",
        "    def call(self, inputs, enc_outputs, mask_1, mask_2, training):\n",
        "        # Call the masked causal attention\n",
        "        attention = self.multi_head_causal_attention(inputs,\n",
        "                                                inputs,\n",
        "                                                inputs,\n",
        "                                                mask_1)\n",
        "        attention = self.dropout_1(attention, training)\n",
        "        # Residual connection and layer normalization\n",
        "        attention = self.norm_1(attention + inputs)\n",
        "        # Call the encoder-decoder attention\n",
        "        attention_2 = self.multi_head_enc_dec_attention(attention,\n",
        "                                                  enc_outputs,\n",
        "                                                  enc_outputs,\n",
        "                                                  mask_2)\n",
        "        attention_2 = self.dropout_2(attention_2, training)\n",
        "        # Residual connection and layer normalization\n",
        "        attention_2 = self.norm_2(attention_2 + attention)\n",
        "        # Call the Feed forward\n",
        "        outputs = self.ffn1_relu(attention_2)\n",
        "        outputs = self.ffn2(outputs)\n",
        "        outputs = self.dropout_3(outputs, training)\n",
        "        # Residual connection and layer normalization\n",
        "        outputs = self.norm_3(outputs + attention_2)\n",
        "        \n",
        "        return outputs"
      ]
    },
    {
      "cell_type": "code",
      "execution_count": null,
      "metadata": {
        "id": "t2CekRdrAFyI"
      },
      "outputs": [],
      "source": [
        "class Decoder(layers.Layer):\n",
        "    \n",
        "    def __init__(self,\n",
        "                 n_layers,\n",
        "                 FFN_units,\n",
        "                 n_heads,\n",
        "                 dropout_rate,\n",
        "                 vocab_size,\n",
        "                 d_model,\n",
        "                 name=\"decoder\"):\n",
        "        super(Decoder, self).__init__(name=name)\n",
        "        self.d_model = d_model\n",
        "        self.n_layers = n_layers\n",
        "        # Embedding layer\n",
        "        self.embedding = layers.Embedding(vocab_size, d_model)\n",
        "        # Positional encoding layer\n",
        "        self.pos_encoding = PositionalEncoding()\n",
        "        self.dropout = layers.Dropout(rate=dropout_rate)\n",
        "        # Stacked layers of multi-head attention and feed forward\n",
        "        self.dec_layers = [DecoderLayer(FFN_units,\n",
        "                                        n_heads,\n",
        "                                        dropout_rate) \n",
        "                           for _ in range(n_layers)]\n",
        "    \n",
        "    def call(self, inputs, enc_outputs, mask_1, mask_2, training):\n",
        "        # Get the embedding vectors\n",
        "        outputs = self.embedding(inputs)\n",
        "        # Scale by sqrt of d_model\n",
        "        outputs *= tf.math.sqrt(tf.cast(self.d_model, tf.float32))\n",
        "        # Positional encodding\n",
        "        outputs = self.pos_encoding(outputs)\n",
        "        outputs = self.dropout(outputs, training)\n",
        "        # Call the stacked layers\n",
        "        for i in range(self.n_layers):\n",
        "            outputs = self.dec_layers[i](outputs,\n",
        "                                         enc_outputs,\n",
        "                                         mask_1,\n",
        "                                         mask_2,\n",
        "                                         training)\n",
        "\n",
        "        return outputs"
      ]
    },
    {
      "cell_type": "markdown",
      "source": [
        "![scaled.png](data:image/png;base64,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)"
      ],
      "metadata": {
        "id": "HA1sTG6hrzaE"
      }
    },
    {
      "cell_type": "markdown",
      "source": [
        "An attention function can be described as mapping a query and a set of key-value pairs to an output, where the query, keys, values, and output are all vectors. The output is computed as a weighted sum of the values, where the weight assigned to each value is computed by a compatibility function of the query with the corresponding key.\n"
      ],
      "metadata": {
        "id": "sGFb0b7BsrSm"
      }
    },
    {
      "cell_type": "code",
      "execution_count": null,
      "metadata": {
        "id": "naMDqazf_p0t"
      },
      "outputs": [],
      "source": [
        "\n",
        "def scaled_dot_product_attention(queries, keys, values, mask):\n",
        "    product = tf.matmul(queries, keys, transpose_b=True)\n",
        "    keys_dim = tf.cast(tf.shape(keys)[-1], tf.float32)\n",
        "    scaled_product = product / tf.math.sqrt(keys_dim)\n",
        "    if mask is not None:\n",
        "        scaled_product += (mask * -1e9)\n",
        "    attention = tf.matmul(tf.nn.softmax(scaled_product, axis=-1), values)\n",
        "    \n",
        "    return attention"
      ]
    },
    {
      "cell_type": "code",
      "execution_count": null,
      "metadata": {
        "id": "atK7G3s5_1Bz"
      },
      "outputs": [],
      "source": [
        "class MultiHeadAttention(layers.Layer):\n",
        "    \n",
        "    def __init__(self, n_heads):\n",
        "        super(MultiHeadAttention, self).__init__()\n",
        "        self.n_heads = n_heads\n",
        "        \n",
        "    def build(self, input_shape):\n",
        "        self.d_model = input_shape[-1]\n",
        "        assert self.d_model % self.n_heads == 0\n",
        "        self.d_head = self.d_model // self.n_heads\n",
        "        # Set the weight matrices for Q, K and V\n",
        "        self.query_lin = layers.Dense(units=self.d_model)\n",
        "        self.key_lin = layers.Dense(units=self.d_model)\n",
        "        self.value_lin = layers.Dense(units=self.d_model)\n",
        "\n",
        "        self.final_lin = layers.Dense(units=self.d_model)\n",
        "        \n",
        "    def split_proj(self, inputs, batch_size): \n",
        "        shape = (batch_size,\n",
        "                 -1,\n",
        "                 self.n_heads,\n",
        "                 self.d_head)\n",
        "        splited_inputs = tf.reshape(inputs, shape=shape) \n",
        "        return tf.transpose(splited_inputs, perm=[0, 2, 1, 3]) \n",
        "    \n",
        "    def call(self, queries, keys, values, mask):\n",
        "\n",
        "        batch_size = tf.shape(queries)[0]\n",
        "   \n",
        "        queries = self.query_lin(queries)\n",
        "        keys = self.key_lin(keys)\n",
        "        values = self.value_lin(values)\n",
        "      \n",
        "        queries = self.split_proj(queries, batch_size)\n",
        "        keys = self.split_proj(keys, batch_size)\n",
        "        values = self.split_proj(values, batch_size)\n",
        "       \n",
        "        attention = scaled_dot_product_attention(queries, keys, values, mask)\n",
        "       \n",
        "        attention = tf.transpose(attention, perm=[0, 2, 1, 3])\n",
        "        \n",
        "        concat_attention = tf.reshape(attention,\n",
        "                                      shape=(batch_size, -1, self.d_model))\n",
        "        \n",
        "        outputs = self.final_lin(concat_attention)\n",
        "        \n",
        "        return outputs"
      ]
    },
    {
      "cell_type": "markdown",
      "source": [
        "![attentionn.png](data:image/png;base64,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)"
      ],
      "metadata": {
        "id": "GvJcSjvStKJH"
      }
    },
    {
      "cell_type": "code",
      "execution_count": null,
      "metadata": {
        "id": "jyfcAty6AQdl"
      },
      "outputs": [],
      "source": [
        "class Transformer(tf.keras.Model):\n",
        "    \n",
        "    def __init__(self,\n",
        "                 vocab_size_enc,\n",
        "                 vocab_size_dec,\n",
        "                 d_model,\n",
        "                 n_layers,\n",
        "                 FFN_units,\n",
        "                 n_heads,\n",
        "                 dropout_rate,\n",
        "                 name=\"transformer\"):\n",
        "        super(Transformer, self).__init__(name=name)\n",
        "        self.encoder = Encoder(n_layers,FFN_units, n_heads,dropout_rate,vocab_size_enc,d_model)\n",
        "        self.decoder = Decoder(n_layers,FFN_units,n_heads, dropout_rate,vocab_size_dec,d_model)\n",
        "        self.last_linear = layers.Dense(units=vocab_size_dec, name=\"lin_ouput\")\n",
        "    \n",
        "    def create_padding_mask(self, seq):\n",
        "        mask = tf.cast(tf.math.equal(seq, 0), tf.float32)\n",
        "        return mask[:, tf.newaxis, tf.newaxis, :]\n",
        "\n",
        "    def create_look_ahead_mask(self, seq):\n",
        "        seq_len = tf.shape(seq)[1]\n",
        "        look_ahead_mask = 1 - tf.linalg.band_part(tf.ones((seq_len, seq_len)), -1, 0)\n",
        "        return look_ahead_mask\n",
        "    \n",
        "    def call(self, enc_inputs, dec_inputs, training):\n",
        "        enc_mask = self.create_padding_mask(enc_inputs)\n",
        "        # Create the mask for the causal attention\n",
        "        dec_mask_1 = tf.maximum(\n",
        "            self.create_padding_mask(dec_inputs),\n",
        "            self.create_look_ahead_mask(dec_inputs)\n",
        "        )\n",
        "        # Create the mask for the encoder-decoder attention\n",
        "        dec_mask_2 = self.create_padding_mask(enc_inputs)\n",
        "        # Call the encoder\n",
        "        enc_outputs = self.encoder(enc_inputs, enc_mask, training)\n",
        "        # Call the decoder\n",
        "        dec_outputs = self.decoder(dec_inputs,enc_outputs,dec_mask_1,dec_mask_2, training)\n",
        "        # Call the Linear and Softmax functions\n",
        "        outputs = self.last_linear(dec_outputs)\n",
        "        \n",
        "        return outputs"
      ]
    },
    {
      "cell_type": "code",
      "execution_count": null,
      "metadata": {
        "id": "kG5JbzrWARso"
      },
      "outputs": [],
      "source": [
        "\n",
        "def loss_function(target, pred):\n",
        "    mask = tf.math.logical_not(tf.math.equal(target, 0))\n",
        "    loss_ = loss_object(target, pred)\n",
        "    \n",
        "    mask = tf.cast(mask, dtype=loss_.dtype)\n",
        "    loss_ *= mask\n",
        "    \n",
        "    return tf.reduce_mean(loss_)"
      ]
    },
    {
      "cell_type": "code",
      "execution_count": null,
      "metadata": {
        "id": "1hFcmpfSAXms"
      },
      "outputs": [],
      "source": [
        "class CustomSchedule(tf.keras.optimizers.schedules.LearningRateSchedule):\n",
        "    \n",
        "    def __init__(self, d_model, warmup_steps=4000):\n",
        "        super(CustomSchedule, self).__init__()\n",
        "        \n",
        "        self.d_model = tf.cast(d_model, tf.float32)\n",
        "        self.warmup_steps = warmup_steps\n",
        "    \n",
        "    def __call__(self, step):\n",
        "        arg1 = tf.math.rsqrt(step)\n",
        "        arg2 = step * (self.warmup_steps**-1.5)\n",
        "        \n",
        "        return tf.math.rsqrt(self.d_model) * tf.math.minimum(arg1, arg2)"
      ]
    },
    {
      "cell_type": "code",
      "execution_count": null,
      "metadata": {
        "id": "wW7pXePhAYzB"
      },
      "outputs": [],
      "source": [
        "def main_train(dataset, transformer, n_epochs, print_every=50):\n",
        "  ''' Train the transformer model for n_epochs using the data generator dataset'''\n",
        "  losses = []\n",
        "  accuracies = []\n",
        "  # In every epoch\n",
        "  for epoch in range(n_epochs):\n",
        "    print(\"Starting epoch {}\".format(epoch+1))\n",
        "    start = time.time()\n",
        "    train_loss.reset_states()\n",
        "    train_accuracy.reset_states()\n",
        "    for (batch, (enc_inputs, targets)) in enumerate(dataset):\n",
        "        dec_inputs = targets[:, :-1]\n",
        "        dec_outputs_real = targets[:, 1:]\n",
        "        with tf.GradientTape() as tape:\n",
        "            predictions = transformer(enc_inputs, dec_inputs, True)\n",
        "            loss = loss_function(dec_outputs_real, predictions)\n",
        "        gradients = tape.gradient(loss, transformer.trainable_variables)\n",
        "        optimizer.apply_gradients(zip(gradients, transformer.trainable_variables))\n",
        "        # Save and store the metrics\n",
        "        train_loss(loss)\n",
        "        train_accuracy(dec_outputs_real, predictions)\n",
        "        \n",
        "        if batch % print_every == 0:\n",
        "            losses.append(train_loss.result())\n",
        "            accuracies.append(train_accuracy.result())\n",
        "            print(\"Epoch {} Batch {} Loss {:.4f} Accuracy {:.4f}\".format(\n",
        "                epoch+1, batch, train_loss.result(), train_accuracy.result()))\n",
        "            \n",
        "    # Checkpoint the model on every epoch        \n",
        "    ckpt_save_path = ckpt_manager.save()\n",
        "    print(\"Saving checkpoint for epoch {} in {}\".format(epoch+1,\n",
        "                                                        ckpt_save_path))\n",
        "    print(\"Time for 1 epoch: {} secs\\n\".format(time.time() - start))\n",
        "\n",
        "  return losses, accuracies"
      ]
    },
    {
      "cell_type": "markdown",
      "source": [
        "### Set hyperparamters \n",
        "\n",
        "\n"
      ],
      "metadata": {
        "id": "vyP5RXnBt_dL"
      }
    },
    {
      "cell_type": "code",
      "execution_count": null,
      "metadata": {
        "id": "wx00aeC_K8Lh"
      },
      "outputs": [],
      "source": [
        "\n",
        "D_MODEL = 512 \n",
        "N_LAYERS = 4\n",
        "FFN_UNITS = 512\n",
        "N_HEADS = 8\n",
        "DROPOUT_RATE = 0.1"
      ]
    },
    {
      "cell_type": "markdown",
      "source": [
        "## Training the model"
      ],
      "metadata": {
        "id": "1QJC0gpsvQ-V"
      }
    },
    {
      "cell_type": "code",
      "execution_count": null,
      "metadata": {
        "id": "_GVJ0SQGAcP2"
      },
      "outputs": [],
      "source": [
        "\n",
        "tf.keras.backend.clear_session()\n",
        "# Create the Transformer model\n",
        "transformer = Transformer(vocab_size_enc=num_words_inputs,\n",
        "                          vocab_size_dec=num_words_output,\n",
        "                          d_model=D_MODEL,\n",
        "                          n_layers=N_LAYERS,\n",
        "                          FFN_units=FFN_UNITS,\n",
        "                          n_heads=N_HEADS,\n",
        "                          dropout_rate=DROPOUT_RATE)\n",
        "\n",
        "# Define a categorical cross entropy loss\n",
        "loss_object = tf.keras.losses.SparseCategoricalCrossentropy(from_logits=True,\n",
        "                                                            reduction=\"none\")\n",
        "# Define a metric to store the mean loss of every epoch\n",
        "train_loss = tf.keras.metrics.Mean(name=\"train_loss\")\n",
        "# Define a matric to save the accuracy in every epoch\n",
        "train_accuracy = tf.keras.metrics.SparseCategoricalAccuracy(name=\"train_accuracy\")\n",
        "# Create the scheduler for learning rate decay\n",
        "leaning_rate = CustomSchedule(D_MODEL)\n",
        "# Create the Adam optimizer\n",
        "optimizer = tf.keras.optimizers.Adam(leaning_rate,beta_1=0.9,beta_2=0.98,epsilon=1e-9)\n",
        "        "
      ]
    },
    {
      "cell_type": "markdown",
      "source": [
        "## Checkpoint "
      ],
      "metadata": {
        "id": "KovHEy9quUPl"
      }
    },
    {
      "cell_type": "code",
      "source": [
        "ckpt = tf.train.Checkpoint(transformer=transformer,\n",
        "                        optimizer=optimizer)\n",
        "\n",
        "ckpt_manager = tf.train.CheckpointManager(ckpt, checkpoint_path, max_to_keep=5)\n",
        "\n",
        "if ckpt_manager.latest_checkpoint:\n",
        "  ckpt.restore(ckpt_manager.latest_checkpoint)\n",
        "  print(\"Last checkpoint restored.\")"
      ],
      "metadata": {
        "id": "lZMKWS-HqSZ-"
      },
      "execution_count": null,
      "outputs": []
    },
    {
      "cell_type": "markdown",
      "source": [
        "### Train"
      ],
      "metadata": {
        "id": "5Of7NyW5ueqq"
      }
    },
    {
      "cell_type": "code",
      "source": [
        "# Train the model\n",
        "losses, accuracies = main_train(dataset, transformer, EPOCHS, 100)"
      ],
      "metadata": {
        "id": "pIx_1HHGqTls",
        "colab": {
          "base_uri": "https://localhost:8080/"
        },
        "outputId": "71dbc112-84db-44c8-fee9-d4b651689a48"
      },
      "execution_count": null,
      "outputs": [
        {
          "output_type": "stream",
          "name": "stdout",
          "text": [
            "Starting epoch 1\n",
            "Epoch 1 Batch 0 Loss 0.5337 Accuracy 0.3661\n",
            "Epoch 1 Batch 100 Loss 0.5781 Accuracy 0.3513\n",
            "Epoch 1 Batch 200 Loss 0.5793 Accuracy 0.3511\n",
            "Epoch 1 Batch 300 Loss 0.5886 Accuracy 0.3495\n",
            "Epoch 1 Batch 400 Loss 0.5953 Accuracy 0.3493\n",
            "Epoch 1 Batch 500 Loss 0.5989 Accuracy 0.3489\n",
            "Epoch 1 Batch 600 Loss 0.6024 Accuracy 0.3484\n",
            "Epoch 1 Batch 700 Loss 0.6060 Accuracy 0.3481\n",
            "Epoch 1 Batch 800 Loss 0.6075 Accuracy 0.3476\n",
            "Epoch 1 Batch 900 Loss 0.6089 Accuracy 0.3474\n",
            "Epoch 1 Batch 1000 Loss 0.6120 Accuracy 0.3472\n",
            "Epoch 1 Batch 1100 Loss 0.6129 Accuracy 0.3472\n",
            "Epoch 1 Batch 1200 Loss 0.6139 Accuracy 0.3471\n",
            "Saving checkpoint for epoch 1 in /content/drive/MyDrive/projects/checkpoints/ckpt-7\n",
            "Time for 1 epoch: 408.5590395927429 secs\n",
            "\n"
          ]
        }
      ]
    },
    {
      "cell_type": "markdown",
      "source": [
        "### PLots"
      ],
      "metadata": {
        "id": "IC59e670vIuA"
      }
    },
    {
      "cell_type": "code",
      "execution_count": null,
      "metadata": {
        "id": "gPAyTMioLSxL",
        "colab": {
          "base_uri": "https://localhost:8080/",
          "height": 336
        },
        "outputId": "c54dea57-bc7d-4f2f-e8a8-5e71ef5a04c5"
      },
      "outputs": [
        {
          "output_type": "display_data",
          "data": {
            "text/plain": [
              "<Figure size 1080x360 with 2 Axes>"
            ],
            "image/png": "[encoded data removed]"
          },
          "metadata": {
            "needs_background": "light"
          }
        }
      ],
      "source": [
        "fig, (ax1, ax2) = plt.subplots(1, 2, figsize=(15,5))\n",
        "# plot some data\n",
        "ax1.plot(losses, label='loss')\n",
        "#plt.plot(results.history['val_loss'], label='val_loss')\n",
        "ax1.set_title('Training Loss')\n",
        "ax1.legend()\n",
        "# accuracies\n",
        "ax2.plot(accuracies, label='acc')\n",
        "#plt.plot(results.history['val_accuracy_fn'], label='val_acc')\n",
        "ax2.set_title('Training Accuracy')\n",
        "ax2.legend()\n",
        "plt.show()"
      ]
    },
    {
      "cell_type": "markdown",
      "source": [
        "### Let's predict"
      ],
      "metadata": {
        "id": "cOn_C3QdvEef"
      }
    },
    {
      "cell_type": "code",
      "execution_count": null,
      "metadata": {
        "id": "ub94ACqPAf1A"
      },
      "outputs": [],
      "source": [
        "def predict(inp_sentence, tokenizer_in, tokenizer_out, target_max_len):\n",
        "    # Tokenize the input sequence using the tokenizer_in\n",
        "    inp_sentence = sos_token_input + tokenizer_in.encode(inp_sentence) + eos_token_input\n",
        "    enc_input = tf.expand_dims(inp_sentence, axis=0)\n",
        "\n",
        "    # Set the initial output sentence to sos\n",
        "    out_sentence = sos_token_output\n",
        "    # Reshape the output\n",
        "    output = tf.expand_dims(out_sentence, axis=0)\n",
        "\n",
        "    # For max target len tokens\n",
        "    for _ in range(target_max_len):\n",
        "        # Call the transformer and get the logits \n",
        "        predictions = transformer(enc_input, output, False)\n",
        "        # Extract the logists of the next word\n",
        "        prediction = predictions[:, -1:, :]\n",
        "        # The highest probability is taken\n",
        "        predicted_id = tf.cast(tf.argmax(prediction, axis=-1), tf.int32)\n",
        "        # Check if it is the eos token\n",
        "        if predicted_id == eos_token_output:\n",
        "            return tf.squeeze(output, axis=0)\n",
        "        # Concat the predicted word to the output sequence\n",
        "        output = tf.concat([output, predicted_id], axis=-1)\n",
        "\n",
        "    return tf.squeeze(output, axis=0)"
      ]
    },
    {
      "cell_type": "markdown",
      "source": [
        "## Get the predicted sequence for the input sentence"
      ],
      "metadata": {
        "id": "yXBJqIykurnU"
      }
    },
    {
      "cell_type": "code",
      "source": [
        "def translate(sentence):\n",
        "    \n",
        "    output = predict(sentence, tokenizer_inputs, tokenizer_outputs, MAX_LENGTH).numpy()\n",
        "    predicted_sentence = tokenizer_outputs.decode(\n",
        "        [i for i in output if i < sos_token_output]\n",
        "    )\n",
        "\n",
        "    return predicted_sentence"
      ],
      "metadata": {
        "id": "UnhtZcyJqkcJ"
      },
      "execution_count": null,
      "outputs": []
    },
    {
      "cell_type": "markdown",
      "source": [
        "## Show the translations"
      ],
      "metadata": {
        "id": "aTir5gP3uwQ8"
      }
    },
    {
      "cell_type": "code",
      "source": [
        "\n",
        "sentence = \"I am running\"\n",
        "print(\"Input sentence: {}\".format(sentence))\n",
        "predicted_sentence = translate(sentence)\n",
        "print(\"Output sentence: {}\".format(predicted_sentence))"
      ],
      "metadata": {
        "id": "gQHniKAXqlN2",
        "colab": {
          "base_uri": "https://localhost:8080/"
        },
        "outputId": "54c2ca9a-4b61-47c2-f21b-877bc293f90b"
      },
      "execution_count": null,
      "outputs": [
        {
          "output_type": "stream",
          "name": "stdout",
          "text": [
            "Input sentence: I am running\n",
            "Output sentence: Ich laufe gern.\n"
          ]
        }
      ]
    },
    {
      "cell_type": "code",
      "source": [
        "sentence = \"Who are you ?\"\n",
        "print(\"Input sentence: {}\".format(sentence))\n",
        "predicted_sentence = translate(sentence)\n",
        "print(\"Output sentence: {}\".format(predicted_sentence))"
      ],
      "metadata": {
        "id": "a0Lh6iJXqvEp",
        "colab": {
          "base_uri": "https://localhost:8080/"
        },
        "outputId": "5887624e-03ee-4df5-8398-fce7cbd15bbf"
      },
      "execution_count": null,
      "outputs": [
        {
          "output_type": "stream",
          "name": "stdout",
          "text": [
            "Input sentence: Who are you ?\n",
            "Output sentence: Wer ist Sie?\n"
          ]
        }
      ]
    },
    {
      "cell_type": "code",
      "source": [],
      "metadata": {
        "id": "ar6q3p_Y9s6O"
      },
      "execution_count": null,
      "outputs": []
    }
  ],
  "metadata": {
    "accelerator": "GPU",
    "colab": {
      "provenance": [],
      "include_colab_link": true
    },
    "kernelspec": {
      "display_name": "Python 3",
      "name": "python3"
    },
    "language_info": {
      "name": "python"
    }
  },
  "nbformat": 4,
  "nbformat_minor": 0
}